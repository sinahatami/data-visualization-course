{
  "nbformat": 4,
  "nbformat_minor": 0,
  "metadata": {
    "colab": {
      "provenance": []
    },
    "kernelspec": {
      "name": "python3",
      "display_name": "Python 3"
    },
    "language_info": {
      "name": "python"
    }
  },
  "cells": [
    {
      "cell_type": "code",
      "execution_count": 31,
      "metadata": {
        "id": "POMJnZRDRRNP"
      },
      "outputs": [],
      "source": [
        "import pandas as pd\n",
        "import json\n",
        "from pandas import json_normalize\n",
        "import os\n",
        "from google.colab import drive"
      ]
    },
    {
      "cell_type": "code",
      "source": [
        "# Mount Google Drive\n",
        "drive.mount('/content/drive')"
      ],
      "metadata": {
        "colab": {
          "base_uri": "https://localhost:8080/"
        },
        "id": "TNW_kA_giBBC",
        "outputId": "5efe5b13-c0dd-491d-d6eb-bfa1772948c5"
      },
      "execution_count": 32,
      "outputs": [
        {
          "output_type": "stream",
          "name": "stdout",
          "text": [
            "Drive already mounted at /content/drive; to attempt to forcibly remount, call drive.mount(\"/content/drive\", force_remount=True).\n"
          ]
        }
      ]
    },
    {
      "cell_type": "code",
      "source": [
        "# Load US GeoJSON data\n",
        "with open(\"/content/us.json\") as f:\n",
        "    data = json.load(f)"
      ],
      "metadata": {
        "id": "VvikLBhth-w4"
      },
      "execution_count": 33,
      "outputs": []
    },
    {
      "cell_type": "code",
      "source": [
        "# Normalize GeoJSON data\n",
        "df = json_normalize(data['objects']['states']['geometries'])"
      ],
      "metadata": {
        "id": "vNUbh4ReRaOE"
      },
      "execution_count": 34,
      "outputs": []
    },
    {
      "cell_type": "code",
      "source": [
        "# Extract state ID and name\n",
        "state_id = df[df.columns[-2:]].rename(columns={df.columns[-2]: 'id', df.columns[-1]: 'state'})"
      ],
      "metadata": {
        "id": "7ljeEnIyRiUk"
      },
      "execution_count": 35,
      "outputs": []
    },
    {
      "cell_type": "code",
      "source": [
        "# Define the file path\n",
        "file_path = '/content/drive/MyDrive/kaggle_dataset/'"
      ],
      "metadata": {
        "id": "hgIa5gItjXu_"
      },
      "execution_count": 36,
      "outputs": []
    },
    {
      "cell_type": "code",
      "source": [
        "# List all CSV files in the specified path\n",
        "file_list = [file for file in os.listdir(file_path) if file.endswith('.csv')]"
      ],
      "metadata": {
        "id": "HdyoatkdjaGy"
      },
      "execution_count": 37,
      "outputs": []
    },
    {
      "cell_type": "code",
      "source": [
        "# Initialize an empty DataFrame to append the CSV data\n",
        "df_append = pd.DataFrame()"
      ],
      "metadata": {
        "id": "FcwouVM_kkgZ"
      },
      "execution_count": 38,
      "outputs": []
    },
    {
      "cell_type": "code",
      "source": [
        "# Append all CSV files together\n",
        "for file in file_list:\n",
        "    df_temp = pd.read_csv(os.path.join(file_path, file), on_bad_lines='skip')\n",
        "    df_temp['file_name'] = file.split('_')[0]\n",
        "    df_append = df_append.append(df_temp, ignore_index=True)"
      ],
      "metadata": {
        "colab": {
          "base_uri": "https://localhost:8080/"
        },
        "id": "JbsnSXphle1d",
        "outputId": "0b0c0618-42b1-434a-9a5c-1efca1cb259b"
      },
      "execution_count": 39,
      "outputs": [
        {
          "output_type": "stream",
          "name": "stderr",
          "text": [
            "<ipython-input-39-1b105967c816>:5: FutureWarning: The frame.append method is deprecated and will be removed from pandas in a future version. Use pandas.concat instead.\n",
            "  df_append = df_append.append(df_temp, ignore_index=True)\n",
            "<ipython-input-39-1b105967c816>:5: FutureWarning: The frame.append method is deprecated and will be removed from pandas in a future version. Use pandas.concat instead.\n",
            "  df_append = df_append.append(df_temp, ignore_index=True)\n",
            "<ipython-input-39-1b105967c816>:5: FutureWarning: The frame.append method is deprecated and will be removed from pandas in a future version. Use pandas.concat instead.\n",
            "  df_append = df_append.append(df_temp, ignore_index=True)\n",
            "<ipython-input-39-1b105967c816>:5: FutureWarning: The frame.append method is deprecated and will be removed from pandas in a future version. Use pandas.concat instead.\n",
            "  df_append = df_append.append(df_temp, ignore_index=True)\n",
            "<ipython-input-39-1b105967c816>:5: FutureWarning: The frame.append method is deprecated and will be removed from pandas in a future version. Use pandas.concat instead.\n",
            "  df_append = df_append.append(df_temp, ignore_index=True)\n",
            "<ipython-input-39-1b105967c816>:5: FutureWarning: The frame.append method is deprecated and will be removed from pandas in a future version. Use pandas.concat instead.\n",
            "  df_append = df_append.append(df_temp, ignore_index=True)\n",
            "<ipython-input-39-1b105967c816>:5: FutureWarning: The frame.append method is deprecated and will be removed from pandas in a future version. Use pandas.concat instead.\n",
            "  df_append = df_append.append(df_temp, ignore_index=True)\n",
            "<ipython-input-39-1b105967c816>:5: FutureWarning: The frame.append method is deprecated and will be removed from pandas in a future version. Use pandas.concat instead.\n",
            "  df_append = df_append.append(df_temp, ignore_index=True)\n",
            "<ipython-input-39-1b105967c816>:5: FutureWarning: The frame.append method is deprecated and will be removed from pandas in a future version. Use pandas.concat instead.\n",
            "  df_append = df_append.append(df_temp, ignore_index=True)\n",
            "<ipython-input-39-1b105967c816>:5: FutureWarning: The frame.append method is deprecated and will be removed from pandas in a future version. Use pandas.concat instead.\n",
            "  df_append = df_append.append(df_temp, ignore_index=True)\n",
            "<ipython-input-39-1b105967c816>:5: FutureWarning: The frame.append method is deprecated and will be removed from pandas in a future version. Use pandas.concat instead.\n",
            "  df_append = df_append.append(df_temp, ignore_index=True)\n",
            "<ipython-input-39-1b105967c816>:5: FutureWarning: The frame.append method is deprecated and will be removed from pandas in a future version. Use pandas.concat instead.\n",
            "  df_append = df_append.append(df_temp, ignore_index=True)\n",
            "<ipython-input-39-1b105967c816>:5: FutureWarning: The frame.append method is deprecated and will be removed from pandas in a future version. Use pandas.concat instead.\n",
            "  df_append = df_append.append(df_temp, ignore_index=True)\n",
            "<ipython-input-39-1b105967c816>:5: FutureWarning: The frame.append method is deprecated and will be removed from pandas in a future version. Use pandas.concat instead.\n",
            "  df_append = df_append.append(df_temp, ignore_index=True)\n",
            "<ipython-input-39-1b105967c816>:5: FutureWarning: The frame.append method is deprecated and will be removed from pandas in a future version. Use pandas.concat instead.\n",
            "  df_append = df_append.append(df_temp, ignore_index=True)\n",
            "<ipython-input-39-1b105967c816>:5: FutureWarning: The frame.append method is deprecated and will be removed from pandas in a future version. Use pandas.concat instead.\n",
            "  df_append = df_append.append(df_temp, ignore_index=True)\n",
            "<ipython-input-39-1b105967c816>:5: FutureWarning: The frame.append method is deprecated and will be removed from pandas in a future version. Use pandas.concat instead.\n",
            "  df_append = df_append.append(df_temp, ignore_index=True)\n",
            "<ipython-input-39-1b105967c816>:5: FutureWarning: The frame.append method is deprecated and will be removed from pandas in a future version. Use pandas.concat instead.\n",
            "  df_append = df_append.append(df_temp, ignore_index=True)\n",
            "<ipython-input-39-1b105967c816>:5: FutureWarning: The frame.append method is deprecated and will be removed from pandas in a future version. Use pandas.concat instead.\n",
            "  df_append = df_append.append(df_temp, ignore_index=True)\n",
            "<ipython-input-39-1b105967c816>:5: FutureWarning: The frame.append method is deprecated and will be removed from pandas in a future version. Use pandas.concat instead.\n",
            "  df_append = df_append.append(df_temp, ignore_index=True)\n",
            "<ipython-input-39-1b105967c816>:5: FutureWarning: The frame.append method is deprecated and will be removed from pandas in a future version. Use pandas.concat instead.\n",
            "  df_append = df_append.append(df_temp, ignore_index=True)\n",
            "<ipython-input-39-1b105967c816>:5: FutureWarning: The frame.append method is deprecated and will be removed from pandas in a future version. Use pandas.concat instead.\n",
            "  df_append = df_append.append(df_temp, ignore_index=True)\n",
            "<ipython-input-39-1b105967c816>:5: FutureWarning: The frame.append method is deprecated and will be removed from pandas in a future version. Use pandas.concat instead.\n",
            "  df_append = df_append.append(df_temp, ignore_index=True)\n",
            "<ipython-input-39-1b105967c816>:5: FutureWarning: The frame.append method is deprecated and will be removed from pandas in a future version. Use pandas.concat instead.\n",
            "  df_append = df_append.append(df_temp, ignore_index=True)\n",
            "<ipython-input-39-1b105967c816>:3: DtypeWarning: Columns (0) have mixed types. Specify dtype option on import or set low_memory=False.\n",
            "  df_temp = pd.read_csv(os.path.join(file_path, file), on_bad_lines='skip')\n",
            "<ipython-input-39-1b105967c816>:5: FutureWarning: The frame.append method is deprecated and will be removed from pandas in a future version. Use pandas.concat instead.\n",
            "  df_append = df_append.append(df_temp, ignore_index=True)\n",
            "<ipython-input-39-1b105967c816>:5: FutureWarning: The frame.append method is deprecated and will be removed from pandas in a future version. Use pandas.concat instead.\n",
            "  df_append = df_append.append(df_temp, ignore_index=True)\n",
            "<ipython-input-39-1b105967c816>:5: FutureWarning: The frame.append method is deprecated and will be removed from pandas in a future version. Use pandas.concat instead.\n",
            "  df_append = df_append.append(df_temp, ignore_index=True)\n",
            "<ipython-input-39-1b105967c816>:5: FutureWarning: The frame.append method is deprecated and will be removed from pandas in a future version. Use pandas.concat instead.\n",
            "  df_append = df_append.append(df_temp, ignore_index=True)\n",
            "<ipython-input-39-1b105967c816>:5: FutureWarning: The frame.append method is deprecated and will be removed from pandas in a future version. Use pandas.concat instead.\n",
            "  df_append = df_append.append(df_temp, ignore_index=True)\n",
            "<ipython-input-39-1b105967c816>:3: DtypeWarning: Columns (0) have mixed types. Specify dtype option on import or set low_memory=False.\n",
            "  df_temp = pd.read_csv(os.path.join(file_path, file), on_bad_lines='skip')\n",
            "<ipython-input-39-1b105967c816>:5: FutureWarning: The frame.append method is deprecated and will be removed from pandas in a future version. Use pandas.concat instead.\n",
            "  df_append = df_append.append(df_temp, ignore_index=True)\n",
            "<ipython-input-39-1b105967c816>:5: FutureWarning: The frame.append method is deprecated and will be removed from pandas in a future version. Use pandas.concat instead.\n",
            "  df_append = df_append.append(df_temp, ignore_index=True)\n",
            "<ipython-input-39-1b105967c816>:5: FutureWarning: The frame.append method is deprecated and will be removed from pandas in a future version. Use pandas.concat instead.\n",
            "  df_append = df_append.append(df_temp, ignore_index=True)\n",
            "<ipython-input-39-1b105967c816>:3: DtypeWarning: Columns (0) have mixed types. Specify dtype option on import or set low_memory=False.\n",
            "  df_temp = pd.read_csv(os.path.join(file_path, file), on_bad_lines='skip')\n",
            "<ipython-input-39-1b105967c816>:5: FutureWarning: The frame.append method is deprecated and will be removed from pandas in a future version. Use pandas.concat instead.\n",
            "  df_append = df_append.append(df_temp, ignore_index=True)\n",
            "<ipython-input-39-1b105967c816>:5: FutureWarning: The frame.append method is deprecated and will be removed from pandas in a future version. Use pandas.concat instead.\n",
            "  df_append = df_append.append(df_temp, ignore_index=True)\n",
            "<ipython-input-39-1b105967c816>:5: FutureWarning: The frame.append method is deprecated and will be removed from pandas in a future version. Use pandas.concat instead.\n",
            "  df_append = df_append.append(df_temp, ignore_index=True)\n",
            "<ipython-input-39-1b105967c816>:5: FutureWarning: The frame.append method is deprecated and will be removed from pandas in a future version. Use pandas.concat instead.\n",
            "  df_append = df_append.append(df_temp, ignore_index=True)\n",
            "<ipython-input-39-1b105967c816>:5: FutureWarning: The frame.append method is deprecated and will be removed from pandas in a future version. Use pandas.concat instead.\n",
            "  df_append = df_append.append(df_temp, ignore_index=True)\n",
            "<ipython-input-39-1b105967c816>:5: FutureWarning: The frame.append method is deprecated and will be removed from pandas in a future version. Use pandas.concat instead.\n",
            "  df_append = df_append.append(df_temp, ignore_index=True)\n",
            "<ipython-input-39-1b105967c816>:5: FutureWarning: The frame.append method is deprecated and will be removed from pandas in a future version. Use pandas.concat instead.\n",
            "  df_append = df_append.append(df_temp, ignore_index=True)\n",
            "<ipython-input-39-1b105967c816>:5: FutureWarning: The frame.append method is deprecated and will be removed from pandas in a future version. Use pandas.concat instead.\n",
            "  df_append = df_append.append(df_temp, ignore_index=True)\n",
            "<ipython-input-39-1b105967c816>:5: FutureWarning: The frame.append method is deprecated and will be removed from pandas in a future version. Use pandas.concat instead.\n",
            "  df_append = df_append.append(df_temp, ignore_index=True)\n",
            "<ipython-input-39-1b105967c816>:5: FutureWarning: The frame.append method is deprecated and will be removed from pandas in a future version. Use pandas.concat instead.\n",
            "  df_append = df_append.append(df_temp, ignore_index=True)\n",
            "<ipython-input-39-1b105967c816>:5: FutureWarning: The frame.append method is deprecated and will be removed from pandas in a future version. Use pandas.concat instead.\n",
            "  df_append = df_append.append(df_temp, ignore_index=True)\n",
            "<ipython-input-39-1b105967c816>:5: FutureWarning: The frame.append method is deprecated and will be removed from pandas in a future version. Use pandas.concat instead.\n",
            "  df_append = df_append.append(df_temp, ignore_index=True)\n",
            "<ipython-input-39-1b105967c816>:5: FutureWarning: The frame.append method is deprecated and will be removed from pandas in a future version. Use pandas.concat instead.\n",
            "  df_append = df_append.append(df_temp, ignore_index=True)\n",
            "<ipython-input-39-1b105967c816>:5: FutureWarning: The frame.append method is deprecated and will be removed from pandas in a future version. Use pandas.concat instead.\n",
            "  df_append = df_append.append(df_temp, ignore_index=True)\n",
            "<ipython-input-39-1b105967c816>:5: FutureWarning: The frame.append method is deprecated and will be removed from pandas in a future version. Use pandas.concat instead.\n",
            "  df_append = df_append.append(df_temp, ignore_index=True)\n",
            "<ipython-input-39-1b105967c816>:5: FutureWarning: The frame.append method is deprecated and will be removed from pandas in a future version. Use pandas.concat instead.\n",
            "  df_append = df_append.append(df_temp, ignore_index=True)\n",
            "<ipython-input-39-1b105967c816>:5: FutureWarning: The frame.append method is deprecated and will be removed from pandas in a future version. Use pandas.concat instead.\n",
            "  df_append = df_append.append(df_temp, ignore_index=True)\n",
            "<ipython-input-39-1b105967c816>:5: FutureWarning: The frame.append method is deprecated and will be removed from pandas in a future version. Use pandas.concat instead.\n",
            "  df_append = df_append.append(df_temp, ignore_index=True)\n",
            "<ipython-input-39-1b105967c816>:5: FutureWarning: The frame.append method is deprecated and will be removed from pandas in a future version. Use pandas.concat instead.\n",
            "  df_append = df_append.append(df_temp, ignore_index=True)\n",
            "<ipython-input-39-1b105967c816>:5: FutureWarning: The frame.append method is deprecated and will be removed from pandas in a future version. Use pandas.concat instead.\n",
            "  df_append = df_append.append(df_temp, ignore_index=True)\n",
            "<ipython-input-39-1b105967c816>:5: FutureWarning: The frame.append method is deprecated and will be removed from pandas in a future version. Use pandas.concat instead.\n",
            "  df_append = df_append.append(df_temp, ignore_index=True)\n",
            "<ipython-input-39-1b105967c816>:5: FutureWarning: The frame.append method is deprecated and will be removed from pandas in a future version. Use pandas.concat instead.\n",
            "  df_append = df_append.append(df_temp, ignore_index=True)\n",
            "<ipython-input-39-1b105967c816>:5: FutureWarning: The frame.append method is deprecated and will be removed from pandas in a future version. Use pandas.concat instead.\n",
            "  df_append = df_append.append(df_temp, ignore_index=True)\n",
            "<ipython-input-39-1b105967c816>:5: FutureWarning: The frame.append method is deprecated and will be removed from pandas in a future version. Use pandas.concat instead.\n",
            "  df_append = df_append.append(df_temp, ignore_index=True)\n",
            "<ipython-input-39-1b105967c816>:5: FutureWarning: The frame.append method is deprecated and will be removed from pandas in a future version. Use pandas.concat instead.\n",
            "  df_append = df_append.append(df_temp, ignore_index=True)\n",
            "<ipython-input-39-1b105967c816>:5: FutureWarning: The frame.append method is deprecated and will be removed from pandas in a future version. Use pandas.concat instead.\n",
            "  df_append = df_append.append(df_temp, ignore_index=True)\n",
            "<ipython-input-39-1b105967c816>:5: FutureWarning: The frame.append method is deprecated and will be removed from pandas in a future version. Use pandas.concat instead.\n",
            "  df_append = df_append.append(df_temp, ignore_index=True)\n",
            "<ipython-input-39-1b105967c816>:5: FutureWarning: The frame.append method is deprecated and will be removed from pandas in a future version. Use pandas.concat instead.\n",
            "  df_append = df_append.append(df_temp, ignore_index=True)\n",
            "<ipython-input-39-1b105967c816>:5: FutureWarning: The frame.append method is deprecated and will be removed from pandas in a future version. Use pandas.concat instead.\n",
            "  df_append = df_append.append(df_temp, ignore_index=True)\n",
            "<ipython-input-39-1b105967c816>:5: FutureWarning: The frame.append method is deprecated and will be removed from pandas in a future version. Use pandas.concat instead.\n",
            "  df_append = df_append.append(df_temp, ignore_index=True)\n",
            "<ipython-input-39-1b105967c816>:5: FutureWarning: The frame.append method is deprecated and will be removed from pandas in a future version. Use pandas.concat instead.\n",
            "  df_append = df_append.append(df_temp, ignore_index=True)\n",
            "<ipython-input-39-1b105967c816>:5: FutureWarning: The frame.append method is deprecated and will be removed from pandas in a future version. Use pandas.concat instead.\n",
            "  df_append = df_append.append(df_temp, ignore_index=True)\n"
          ]
        }
      ]
    },
    {
      "cell_type": "code",
      "source": [
        "# Group by state and count occurrences\n",
        "groups_by_state = df_append.groupby('state').count()\n",
        "result_selected = groups_by_state['city'].reset_index().rename(columns={'city': 'rate'})"
      ],
      "metadata": {
        "id": "nZv_bTV9lgmW"
      },
      "execution_count": 40,
      "outputs": []
    },
    {
      "cell_type": "code",
      "source": [
        "# Merge with state_id DataFrame\n",
        "result = pd.merge(result_selected, state_id, how='left', on='state')"
      ],
      "metadata": {
        "id": "nOXrcpG2li9d"
      },
      "execution_count": 41,
      "outputs": []
    },
    {
      "cell_type": "code",
      "source": [
        "result.to_csv('/content/drive/MyDrive/kaggle_dataset/result.csv', index=False)"
      ],
      "metadata": {
        "id": "BEr0q5MXlleR"
      },
      "execution_count": 42,
      "outputs": []
    },
    {
      "cell_type": "code",
      "source": [],
      "metadata": {
        "id": "-lLWg_rCm8CK"
      },
      "execution_count": null,
      "outputs": []
    }
  ]
}