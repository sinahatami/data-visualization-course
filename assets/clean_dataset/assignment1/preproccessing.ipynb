{
  "nbformat": 4,
  "nbformat_minor": 0,
  "metadata": {
    "colab": {
      "provenance": []
    },
    "kernelspec": {
      "name": "python3",
      "display_name": "Python 3"
    },
    "language_info": {
      "name": "python"
    }
  },
  "cells": [
    {
      "cell_type": "code",
      "execution_count": null,
      "metadata": {
        "colab": {
          "base_uri": "https://localhost:8080/"
        },
        "id": "POMJnZRDRRNP",
        "outputId": "dab861b1-2f0d-4660-fe3a-75d5be4feaef"
      },
      "outputs": [
        {
          "output_type": "stream",
          "name": "stdout",
          "text": [
            "Mounted at /content/drive\n"
          ]
        }
      ],
      "source": [
        "import pandas as pd\n",
        "import glob\n",
        "import matplotlib.pyplot as plt\n",
        "import json\n",
        "from google.colab import drive\n",
        "drive.mount('/content/drive')"
      ]
    },
    {
      "cell_type": "code",
      "source": [
        "all_files = glob.glob(\"/content/drive/MyDrive/kaggle_dataset/*.csv\") # all .csv files\n",
        "all_files.sort() # imposing a given order\n",
        "print(all_files)"
      ],
      "metadata": {
        "colab": {
          "base_uri": "https://localhost:8080/"
        },
        "id": "vNUbh4ReRaOE",
        "outputId": "8eafa9d0-905b-4290-cf79-a22fecc2faa0"
      },
      "execution_count": null,
      "outputs": [
        {
          "output_type": "stream",
          "name": "stdout",
          "text": [
            "['/content/drive/MyDrive/kaggle_dataset/Albuquerque_Final_2022-06-18.csv', '/content/drive/MyDrive/kaggle_dataset/Anaheim_Final_2022-06-18.csv', '/content/drive/MyDrive/kaggle_dataset/Arlington_Final_2022-06-18.csv', '/content/drive/MyDrive/kaggle_dataset/Atlanta_Final_2022-06-18.csv', '/content/drive/MyDrive/kaggle_dataset/AuroraCO_Final_2022-06-18.csv', '/content/drive/MyDrive/kaggle_dataset/Austin_Final_2022-06-18.csv', '/content/drive/MyDrive/kaggle_dataset/Baltimore_Final_2022-06-18.csv', '/content/drive/MyDrive/kaggle_dataset/Boston_Final_2022-06-18.csv', '/content/drive/MyDrive/kaggle_dataset/Buffalo_Final_2022-06-18.csv', '/content/drive/MyDrive/kaggle_dataset/CapeCoral_Final_2022-06-18.csv', '/content/drive/MyDrive/kaggle_dataset/ColoradoSprings_Final_2022-06-18.csv', '/content/drive/MyDrive/kaggle_dataset/Columbus_Final_2022-06-18.csv', '/content/drive/MyDrive/kaggle_dataset/Column_Headers_Dryad.csv', '/content/drive/MyDrive/kaggle_dataset/Dallas_Final_2022-06-18.csv', '/content/drive/MyDrive/kaggle_dataset/Denver_Final_2022-06-18.csv', '/content/drive/MyDrive/kaggle_dataset/DesMoines_Final_2022-06-18.csv', '/content/drive/MyDrive/kaggle_dataset/Detroit_Final_2022-06-18.csv', '/content/drive/MyDrive/kaggle_dataset/Durham_Final_2022-06-18.csv', '/content/drive/MyDrive/kaggle_dataset/Fresno_Final_2022-06-18.csv', '/content/drive/MyDrive/kaggle_dataset/GardenGrove_Final_2022-06-18.csv', '/content/drive/MyDrive/kaggle_dataset/GrandRapids_Final_2022-06-18.csv', '/content/drive/MyDrive/kaggle_dataset/Greensboro_Final_2022-06-18.csv', '/content/drive/MyDrive/kaggle_dataset/Honolulu_Final_2022-06-18.csv', '/content/drive/MyDrive/kaggle_dataset/Houston_Final_2022-06-18.csv', '/content/drive/MyDrive/kaggle_dataset/HuntingtonBeach_Final_2022-06-18.csv', '/content/drive/MyDrive/kaggle_dataset/Indianapolis_Final_2022-06-18.csv', '/content/drive/MyDrive/kaggle_dataset/Irvine_Final_2022-06-18.csv', '/content/drive/MyDrive/kaggle_dataset/Jerseycity_Final_2022-06-18.csv', '/content/drive/MyDrive/kaggle_dataset/Knoxville_Final_2022-06-18.csv', '/content/drive/MyDrive/kaggle_dataset/LasVegas_Final_2022-06-18.csv', '/content/drive/MyDrive/kaggle_dataset/LosAngeles_Final_2022-06-18.csv', '/content/drive/MyDrive/kaggle_dataset/Louisville_Final_2022-06-18.csv', '/content/drive/MyDrive/kaggle_dataset/Madison_Final_2022-06-18.csv', '/content/drive/MyDrive/kaggle_dataset/Miami_Final_2022-06-18.csv', '/content/drive/MyDrive/kaggle_dataset/Milwaukee_Final_2022-06-18.csv', '/content/drive/MyDrive/kaggle_dataset/Minneapolis_Final_2022-06-18.csv', '/content/drive/MyDrive/kaggle_dataset/Nashville_Final_2022-06-18.csv', '/content/drive/MyDrive/kaggle_dataset/NewOrleans_Final_2022-06-18.csv', '/content/drive/MyDrive/kaggle_dataset/NewYork_Final_2022-06-18.csv', '/content/drive/MyDrive/kaggle_dataset/Oakland_Final_2022-06-18.csv', '/content/drive/MyDrive/kaggle_dataset/OklahomaCity_Final_2022-06-18.csv', '/content/drive/MyDrive/kaggle_dataset/Ontario_Final_2022-06-18.csv', '/content/drive/MyDrive/kaggle_dataset/Orlando_Final_2022-06-18.csv', '/content/drive/MyDrive/kaggle_dataset/OverlandPark_Final_2022-06-18.csv', '/content/drive/MyDrive/kaggle_dataset/Phoenix_Final_2022-06-18.csv', '/content/drive/MyDrive/kaggle_dataset/Pittsburgh_Final_2022-06-18.csv', '/content/drive/MyDrive/kaggle_dataset/Plano_Final_2022-06-18.csv', '/content/drive/MyDrive/kaggle_dataset/Portland_Final_2022-06-18.csv', '/content/drive/MyDrive/kaggle_dataset/Providence_Final_2022-06-18.csv', '/content/drive/MyDrive/kaggle_dataset/RanchoCucamonga_Final_2022-06-18.csv', '/content/drive/MyDrive/kaggle_dataset/Richmond_Final_2022-06-18.csv', '/content/drive/MyDrive/kaggle_dataset/Rochester_Final_2022-06-18.csv', '/content/drive/MyDrive/kaggle_dataset/Sacramento_Final_2022-06-18.csv', '/content/drive/MyDrive/kaggle_dataset/SanDiego_Final_2022-06-18.csv', '/content/drive/MyDrive/kaggle_dataset/SanFrancisco_Final_2022-06-18.csv', '/content/drive/MyDrive/kaggle_dataset/SanJose_Final_2022-06-18.csv', '/content/drive/MyDrive/kaggle_dataset/SantaRosa_Final_2022-06-18.csv', '/content/drive/MyDrive/kaggle_dataset/Seattle_Final_2022-06-18.csv', '/content/drive/MyDrive/kaggle_dataset/SiouxFalls_Final_2022-06-18.csv', '/content/drive/MyDrive/kaggle_dataset/StLouis_Final_2022-06-18.csv', '/content/drive/MyDrive/kaggle_dataset/Stockton_Final_2022-06-18.csv', '/content/drive/MyDrive/kaggle_dataset/Tampa_Final_2022-06-18.csv', '/content/drive/MyDrive/kaggle_dataset/WashingtonDC_Final_2022-06-18.csv', '/content/drive/MyDrive/kaggle_dataset/Worcester_Final_2022-06-18.csv']\n"
          ]
        }
      ]
    },
    {
      "cell_type": "code",
      "source": [
        "# Create a list to store DataFrames\n",
        "list_of_df = []\n",
        "\n",
        "# Load and preprocess the CSV files\n",
        "for filename in all_files:\n",
        "    df = pd.read_csv(filename, low_memory=False)\n",
        "\n",
        "    # Check if 'city' column exists in the DataFrame\n",
        "    if 'city' in df.columns:\n",
        "        # Extract the city name from the filename\n",
        "        city_name = filename.split('_')[0].split('/')[-1]\n",
        "        # Fill missing 'city' values with the extracted city name\n",
        "        df['city'].fillna(city_name, inplace=True)\n",
        "\n",
        "    list_of_df.append(df)"
      ],
      "metadata": {
        "id": "7ljeEnIyRiUk"
      },
      "execution_count": null,
      "outputs": []
    },
    {
      "cell_type": "code",
      "source": [
        "# Concatenate all DataFrames into a single DataFrame\n",
        "tree_dataset = pd.concat(list_of_df, axis=0, ignore_index=True)\n",
        "\n",
        "# Filter for rows with both 'city' and 'scientific_name'\n",
        "filtered_data = tree_dataset[['city', 'scientific_name', 'height_M']]\n",
        "\n",
        "# Count the occurrences of 'scientific_name' based on 'city'\n",
        "scientific_name_counts = filtered_data.groupby(['city', 'scientific_name']).size().reset_index(name='count')\n",
        "\n",
        "# Calculate the average height for each scientific name\n",
        "average_heights = filtered_data.groupby(['scientific_name'])['height_M'].mean().reset_index(name='average_height')\n",
        "\n",
        "# Sort the counts by city and count in descending order\n",
        "sorted_counts = scientific_name_counts.sort_values(by=['city', 'count'], ascending=[True, False])"
      ],
      "metadata": {
        "id": "9BDcYOzEv3mM"
      },
      "execution_count": null,
      "outputs": []
    },
    {
      "cell_type": "code",
      "source": [
        "# Create a dictionary to store the top 7 counts for each city and the average height for each scientific name\n",
        "top_counts = {}\n",
        "for city in sorted_counts['city'].unique():\n",
        "    city_data = sorted_counts[sorted_counts['city'] == city]\n",
        "    top_30 = city_data.head(30).to_dict(orient='records')\n",
        "    top_counts[city] = top_30\n",
        "\n",
        "# Create a dictionary to store the average height for each scientific name\n",
        "average_height_dict = average_heights.set_index('scientific_name')['average_height'].to_dict()"
      ],
      "metadata": {
        "id": "dD_lFtvLRu0b"
      },
      "execution_count": null,
      "outputs": []
    },
    {
      "cell_type": "code",
      "source": [
        "# Combine the two dictionaries and filter out entries with NaN average_height\n",
        "final_result = {}\n",
        "for city, top_scientific_names in top_counts.items():\n",
        "    final_result[city] = []\n",
        "    for name_info in top_scientific_names:\n",
        "        scientific_name = name_info['scientific_name']\n",
        "        count = name_info['count']\n",
        "        if scientific_name in average_height_dict:\n",
        "            average_height = average_height_dict[scientific_name]\n",
        "            if not pd.isna(average_height):\n",
        "                final_result[city].append({\n",
        "                    'scientific_name': scientific_name,\n",
        "                    'count': count,\n",
        "                    'average_height': average_height\n",
        "                })\n",
        "\n",
        "# Save the final result as a JSON file\n",
        "with open('top_city_scientific_names_with_average_height.json', 'w') as json_file:\n",
        "    json.dump(final_result, json_file, indent=4)"
      ],
      "metadata": {
        "id": "9C0j-KMRRzSi"
      },
      "execution_count": null,
      "outputs": []
    },
    {
      "cell_type": "code",
      "source": [
        "import pandas as pd\n",
        "\n",
        "# Combine the data into a DataFrame\n",
        "final_data = []\n",
        "for city, top_scientific_names in final_result.items():\n",
        "    for item in top_scientific_names:\n",
        "        final_data.append({\n",
        "            'City': city,\n",
        "            'Scientific_Name': item['scientific_name'],\n",
        "            'Count': item['count'],\n",
        "            'Average_Height': item['average_height']\n",
        "        })\n",
        "\n",
        "df = pd.DataFrame(final_data)\n",
        "\n",
        "# Save the DataFrame as a CSV file\n",
        "df.to_csv('top_city_scientific_names_with_average_height.csv', index=False)"
      ],
      "metadata": {
        "id": "uLFCYmGq53Pg"
      },
      "execution_count": null,
      "outputs": []
    },
    {
      "cell_type": "code",
      "source": [],
      "metadata": {
        "id": "Qyowhfrh9cxy"
      },
      "execution_count": null,
      "outputs": []
    }
  ]
}